{
 "cells": [
  {
   "cell_type": "code",
   "execution_count": null,
   "id": "15d21255",
   "metadata": {},
   "outputs": [],
   "source": [
    "# Imports\n",
    "import pandas as pd\n",
    "import numpy as np\n",
    "import matplotlib.pyplot as plt\n",
    "import seaborn as sns\n",
    "import time\n",
    "from PIL import Image\n",
    "from IPython.display import display, Image\n",
    "from selenium import webdriver\n",
    "from selenium.webdriver.chrome.service import Service\n",
    "from selenium.webdriver.chrome.options import Options\n",
    "from selenium.webdriver.common.by import By\n",
    "from selenium.common.exceptions import NoSuchElementException\n",
    "from selenium.webdriver.support.ui import WebDriverWait\n",
    "from selenium.webdriver.support import expected_conditions as EC\n",
    "from webdriver_manager.chrome import ChromeDriverManager"
   ]
  },
  {
   "cell_type": "code",
   "execution_count": null,
   "id": "64ea8fbf",
   "metadata": {},
   "outputs": [],
   "source": [
    "# Setup / Data-Reading\n",
    "file_path = 'amazon.csv'\n",
    "df_original = pd.read_csv(file_path)\n",
    "amazon = df_original.copy()\n",
    "\n",
    "# By default, the program only prints 4 values, and fills the rest with '...'\n",
    "pd.set_option('display.max_columns', None)\n",
    "\n",
    "# By default, there is a width limit set, so items over that limit would be printed in a new line.\n",
    "pd.set_option('display.width', 1000)"
   ]
  },
  {
   "cell_type": "code",
   "execution_count": null,
   "id": "ad0655d0",
   "metadata": {},
   "outputs": [],
   "source": [
    "# Checking which products have images\n",
    "\n",
    "service = Service(ChromeDriverManager().install())\n",
    "driver = webdriver.Chrome(service=service)\n",
    "\n",
    "# Initialize the new column in the dataframe with None values\n",
    "amazon['has_image'] = None\n",
    "\n",
    "start_time = time.time()  # Start timing\n",
    "\n",
    "total_entries = len(amazon)\n",
    "\n",
    "for i in range(total_entries):\n",
    "    data_uri = amazon.loc[i, 'img_link']\n",
    "    driver.get(data_uri)\n",
    "    try:\n",
    "        # Check for 'Bad Request' message in the page\n",
    "        driver.find_element(By.XPATH, \"//*[contains(text(), 'Bad Request')]\")\n",
    "        amazon.loc[i, 'has_image'] = False\n",
    "    except NoSuchElementException:\n",
    "        # No 'Bad Request' found, set the column to True\n",
    "        amazon.loc[i, 'has_image'] = True\n",
    "\n",
    "driver.quit()\n",
    "\n",
    "end_time = time.time()  # End timing\n",
    "elapsed_time = end_time - start_time  # Calculate elapsed time\n",
    "print(f\"Time taken to check images: {elapsed_time:.2f} seconds\")\n",
    "\n",
    "valid_images_percentage_total = (amazon['has_image'].sum() / total_entries) * 100\n",
    "print(f\"Percentage of image links without 'Bad Request': {valid_images_percentage_total:.2f}%\")\n",
    "\n",
    "# Time: 294.00 seconds, 314.13, 416.26\n",
    "# Outcome: Roughly 59.52% of products have images. 59.59\n",
    "\n",
    "amazon.to_csv('amazon_updated.csv', index=False)\n"
   ]
  },
  {
   "cell_type": "code",
   "execution_count": null,
   "id": "43eabd1a",
   "metadata": {},
   "outputs": [],
   "source": []
  }
 ],
 "metadata": {
  "kernelspec": {
   "display_name": "Python 3 (ipykernel)",
   "language": "python",
   "name": "python3"
  },
  "language_info": {
   "codemirror_mode": {
    "name": "ipython",
    "version": 3
   },
   "file_extension": ".py",
   "mimetype": "text/x-python",
   "name": "python",
   "nbconvert_exporter": "python",
   "pygments_lexer": "ipython3",
   "version": "3.11.5"
  }
 },
 "nbformat": 4,
 "nbformat_minor": 5
}
